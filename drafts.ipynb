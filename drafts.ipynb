{
 "cells": [
  {
   "cell_type": "code",
   "execution_count": 2,
   "metadata": {},
   "outputs": [
    {
     "name": "stdout",
     "output_type": "stream",
     "text": [
      "Valeriy Popa\n"
     ]
    }
   ],
   "source": [
    "import sqlite3\n",
    "connection = sqlite3.connect('./_server_files/db/storage.db', check_same_thread = False)\n",
    "cursor = connection.cursor()  \n",
    "\n",
    "data = cursor.execute('SELECT name, surname FROM users where username = ?', ('valeriy099',)).fetchall()\n",
    "user = data[0][0] +' '+ data[0][1]\n",
    "print(user)"
   ]
  },
  {
   "cell_type": "code",
   "execution_count": 18,
   "metadata": {},
   "outputs": [
    {
     "name": "stderr",
     "output_type": "stream",
     "text": [
      "<>:5: SyntaxWarning: 'str' object is not callable; perhaps you missed a comma?\n",
      "<>:5: SyntaxWarning: 'str' object is not callable; perhaps you missed a comma?\n",
      "C:\\Users\\valer\\AppData\\Local\\Temp\\ipykernel_19540\\750536514.py:5: SyntaxWarning: 'str' object is not callable; perhaps you missed a comma?\n",
      "  data = cursor.execute('SELECT private_certificate, signature FROM signatures where user_id = ?' (1, )).fetchall()\n",
      "C:\\Users\\valer\\AppData\\Local\\Temp\\ipykernel_19540\\750536514.py:5: SyntaxWarning: 'str' object is not callable; perhaps you missed a comma?\n",
      "  data = cursor.execute('SELECT private_certificate, signature FROM signatures where user_id = ?' (1, )).fetchall()\n",
      "C:\\Users\\valer\\AppData\\Local\\Temp\\ipykernel_19540\\750536514.py:5: SyntaxWarning: 'str' object is not callable; perhaps you missed a comma?\n",
      "  data = cursor.execute('SELECT private_certificate, signature FROM signatures where user_id = ?' (1, )).fetchall()\n",
      "C:\\Users\\valer\\AppData\\Local\\Temp\\ipykernel_19540\\750536514.py:5: SyntaxWarning: 'str' object is not callable; perhaps you missed a comma?\n",
      "  data = cursor.execute('SELECT private_certificate, signature FROM signatures where user_id = ?' (1, )).fetchall()\n",
      "C:\\Users\\valer\\AppData\\Local\\Temp\\ipykernel_19540\\750536514.py:5: SyntaxWarning: 'str' object is not callable; perhaps you missed a comma?\n",
      "  data = cursor.execute('SELECT private_certificate, signature FROM signatures where user_id = ?' (1, )).fetchall()\n"
     ]
    },
    {
     "ename": "TypeError",
     "evalue": "'str' object is not callable",
     "output_type": "error",
     "traceback": [
      "\u001b[1;31m---------------------------------------------------------------------------\u001b[0m",
      "\u001b[1;31mTypeError\u001b[0m                                 Traceback (most recent call last)",
      "Cell \u001b[1;32mIn [18], line 5\u001b[0m\n\u001b[0;32m      2\u001b[0m connection \u001b[39m=\u001b[39m sqlite3\u001b[39m.\u001b[39mconnect(\u001b[39m'\u001b[39m\u001b[39m./_server_files/db/storage.db\u001b[39m\u001b[39m'\u001b[39m, check_same_thread \u001b[39m=\u001b[39m \u001b[39mFalse\u001b[39;00m)\n\u001b[0;32m      3\u001b[0m cursor \u001b[39m=\u001b[39m connection\u001b[39m.\u001b[39mcursor()  \n\u001b[1;32m----> 5\u001b[0m data \u001b[39m=\u001b[39m cursor\u001b[39m.\u001b[39mexecute(\u001b[39m'\u001b[39;49m\u001b[39mSELECT private_certificate, signature FROM signatures where user_id = ?\u001b[39;49m\u001b[39m'\u001b[39;49m (\u001b[39m1\u001b[39;49m, ))\u001b[39m.\u001b[39mfetchall()\n\u001b[0;32m      6\u001b[0m \u001b[39mprint\u001b[39m(data)\n",
      "\u001b[1;31mTypeError\u001b[0m: 'str' object is not callable"
     ]
    }
   ],
   "source": [
    "\n",
    "import sqlite3\n",
    "connection = sqlite3.connect('./_server_files/db/storage.db', check_same_thread = False)\n",
    "cursor = connection.cursor()  \n",
    "\n",
    "data = cursor.execute('SELECT private_certificate, signature FROM signatures where user_id = ?' (1, )).fetchall()\n",
    "print(data)"
   ]
  }
 ],
 "metadata": {
  "kernelspec": {
   "display_name": "Python 3.10.6 ('venv': venv)",
   "language": "python",
   "name": "python3"
  },
  "language_info": {
   "codemirror_mode": {
    "name": "ipython",
    "version": 3
   },
   "file_extension": ".py",
   "mimetype": "text/x-python",
   "name": "python",
   "nbconvert_exporter": "python",
   "pygments_lexer": "ipython3",
   "version": "3.10.6"
  },
  "orig_nbformat": 4,
  "vscode": {
   "interpreter": {
    "hash": "b671c9fb5853530c706957bb11507b1ed3b1c5a78b913df8976d748cff41968d"
   }
  }
 },
 "nbformat": 4,
 "nbformat_minor": 2
}
